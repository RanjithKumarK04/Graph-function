{
 "cells": [
  {
   "cell_type": "markdown",
   "metadata": {},
   "source": [
    "### Using created function 'graph1' to generate required plots for the dataset provided by User"
   ]
  },
  {
   "cell_type": "markdown",
   "metadata": {},
   "source": [
    "                                                                            # Name: Nikhil Pradeep Chittoor\n",
    "                                                                              Stud ID: D19019\n",
    "                                                                            \n",
    "                                                                            # Name: Ranjith Kumar Kothamasum\n",
    "                                                                              Stud ID: 19027"
   ]
  },
  {
   "cell_type": "code",
   "execution_count": 1,
   "metadata": {},
   "outputs": [
    {
     "name": "stdout",
     "output_type": "stream",
     "text": [
      "Enter file path:C:\\Users\\MOHANA KRISHNA\\Desktop\\praxis\\Assignments\\attrition.csv\n",
      "Enter the directory in which you want to save the files:C:\\Users\\MOHANA KRISHNA\\Desktop\\praxis\\Assignments\\attrition_plots\n",
      "Do you want only some cols?(y/n)n\n",
      "Numerical_cols: ['Age' 'MonthlyIncome' 'TotalWorkingYears' 'YearsAtCompany'\n",
      " 'YearsInCurrentRole' 'YearsSinceLastPromotion' 'YearsWithCurrManager']\n",
      "Categorical_cols ['BusinessTravel' 'Department' 'EducationField' 'Gender' 'MaritalStatus'\n",
      " 'OverTime' 'Attrition' 'EnvironmentSatisfaction' 'JobInvolvement'\n",
      " 'JobLevel' 'JobSatisfaction' 'WorkLifeBalance']\n",
      "Do You Want to impute data?(y/n)y\n",
      "Sorry there are no NaN or Null values in numerical_cols can't do imputation.. continuing to plotting graphs\n",
      "Sorry there are no NaN or Null values in categorical_cols can't do imputation.. continuing to plotting graphs\n",
      "Do you want smoothed curve?(y/n):y\n"
     ]
    }
   ],
   "source": [
    "import Graphfunction\n",
    "import pandas as pd\n",
    "import os\n",
    "\n",
    "inp_dire=input(\"Enter file path:\")\n",
    "data = pd.read_csv(inp_dire)\n",
    "directory = input(\"Enter the directory in which you want to save the files:\")\n",
    "if not os.path.exists(directory):\n",
    "    os.makedirs(directory)\n",
    "opt = input(\"Do you want only some cols?(y/n)\")\n",
    "columns = data.columns\n",
    "if opt.lower() == \"y\":\n",
    "    cols=[]\n",
    "    print(\"Enter 9 to stop giving col names\\nNote: Col_names are given as per in the dataset\")\n",
    "    a=\"\"\n",
    "    while a!=str(9):\n",
    "        a=input('Enter col_name:')\n",
    "        if a in columns:\n",
    "            cols.append(a)\n",
    "        else:\n",
    "            if(a!=str(9)):\n",
    "                print(\"Please enter a col_name from below list\")\n",
    "                print(columns)\n",
    "else:\n",
    "    cols=0\n",
    "Graphfunction.graph(data,cols,directory)\n",
    "#Opening files in new tab\n",
    "plot_files=os.listdir(directory)\n",
    "for i in plot_files:\n",
    "    os.startfile(directory+\"\\\\\"+i)"
   ]
  }
 ],
 "metadata": {
  "kernelspec": {
   "display_name": "Python 3",
   "language": "python",
   "name": "python3"
  },
  "language_info": {
   "codemirror_mode": {
    "name": "ipython",
    "version": 3
   },
   "file_extension": ".py",
   "mimetype": "text/x-python",
   "name": "python",
   "nbconvert_exporter": "python",
   "pygments_lexer": "ipython3",
   "version": "3.6.5"
  }
 },
 "nbformat": 4,
 "nbformat_minor": 2
}
